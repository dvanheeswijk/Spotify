{
 "cells": [
  {
   "cell_type": "markdown",
   "metadata": {},
   "source": [
    "# Spotify Music Story Telling\n",
    "\n",
    "Over the years, Spotify has provided countless hours of music to choose from for customers of all types. We will explore the [Spotify Dataset 1921-2021, 160k+](https://www.kaggle.com/yamaerenay/spotify-dataset-19212020-160k-tracks) consisting of over 160,000 songs from a century of music. Within the data set, we have audio info for each song (tempo, loudness, etc), popularity, artist info, as well as release date/year, among other features.\n",
    "\n",
    "What we would like to know are the following questions:\n",
    "\n",
    "* How does popularity compare over time and among all songs within Spotify?\n",
    "* Are there any relationships between the audio measures?\n",
    "* Do explicit songs tend to be less positive?\n",
    "* Does music follow economic trends in regards to happiness?"
   ]
  },
  {
   "cell_type": "markdown",
   "metadata": {},
   "source": [
    "### Popularity analysis\n",
    "\n",
    "When we look at the overall set of songs, we see that each song has a popularity score, which ranges from 0-100. This is measured based on user listenage metrics defined by Spotify. If we take a look at popularity of songs, we start with what the distribution of songs looks like for each given popularity measure.\n",
    "\n",
    "<img src='images/popularity_dist.png'>"
   ]
  },
  {
   "cell_type": "markdown",
   "metadata": {},
   "source": [
    "We expect to have the vast majority of songs to be close to 0 in popularity, which is supported in our data. We also find the the majority of songs with a positive popularity are still under a score of 40, and an extremely small number of songs above 80 on the popularity score. If we look at the top ten most popular songs in our data set, we have\n",
    "\n",
    "| Artists | Song | Year | Pop. |\n",
    "|:----------- |:---------- |:---------- |:--------- |\n",
    "| Olivia Rodrigo | drivers license | 2021 | 100 |\n",
    "| 24kGoldn, iann dior | Mood (feat. iann dior) | 2020 | 96 |\n",
    "| Ariana Grande | positions | 2020 | 96 |\n",
    "| Bad Bunny, Jhay Cortez | DÁKITI | 2020 | 95 |\n",
    "| KAROL G | BICHOTA | 2020 | 95|\n",
    "| Ariana Grande | 34+35 | 2020 | 94 |\n",
    "| CJ | Whoopty | 2020 | 94|\n",
    "| The Kid LAROI | WITHOUT YOU | 2020 | 94 |\n",
    "| Billie Eilish | Therefore I Am | 2020 | 94 |\n",
    "| Bad Bunny, ROSALÍA | LA NOCHE DE ANOCHE | 2020 | 94 |"
   ]
  },
  {
   "cell_type": "markdown",
   "metadata": {},
   "source": [
    "It turns out that the top ten songs in regards of popularity are all from the last year. This can likely be explained simply because there are more users now than last year, and more current music tends to get more listens. Curiously, we see that the last two decades tend to be less popular overall, though.\n",
    "\n",
    "<img src='images/popularity_decade_1.png'>"
   ]
  },
  {
   "cell_type": "markdown",
   "metadata": {},
   "source": [
    "Turns out that the 90s are the most popular decade of all! This shows that millenials are likely the largest volume of listeners, without showing any data from who actually is listening to what.\n",
    "\n",
    "One thing that may explain why the newest music is so much lower in popularity, on average, can be explained in a tale of two bands:\n",
    "\n",
    "* Music Scenario 1 - produced an album in 1987 and played a few sets along the west coast before the band went their separate ways, garnering almost no long time fans. By the time Spotify comes onto the scene, the band, the label, and anyone who may have heard their music is likely not pushing to get them included in the app. Because the music came out before Spotify, then it likely will never get on the app, thus having a theoretical \"0-rating\" set of songs not making the cut.\n",
    "\n",
    "* Music Scenario 2 - young kid in 2018 decides that he wants to produce a song via soundcloud. He works on it for a week, and eventually decides to post it everywhere he can, thinking that he can become the next big thing. He puts it everywhere, including Spotify. It remains with almost no listeners for a month, then the kid decides to move on from music to something else, while the song just sits in the database with no listeners...\n",
    "\n",
    "Basically, more volume of music is getting onto Spotify now than ever, which means a lot of music that has very low popularity, bringing the overall popularity of the decade down. What if we exclude songs with \"0-rating\"? Does the millenial love of 90s music still outweigh the new stuff?\n",
    "\n",
    "<img src='images/popularity_decade_2.png'>"
   ]
  },
  {
   "cell_type": "markdown",
   "metadata": {},
   "source": [
    "Yes! Millenials just love them some Chumbawumba, Smash Mouth, Tupac, etc.\n",
    "\n",
    "Let's take a look at popularity over time for individual bands. In order to make this list, bands have to have a long history of producing bangers. Here are the top ten most popular bands of all time.\n",
    "\n",
    "| Artists | Popularity |\n",
    "|:-------- | :-------- |\n",
    "| The Beatles | 19110 |\n",
    "|Frank Sinatra|\t17434 |\n",
    "|Elvis Presley|\t16998 |\n",
    "|Fleetwood Mac|\t15927 |\n",
    "|The Rolling Stones|\t15817 |\n",
    "|Bob Dylan|\t14057 |\n",
    "|Led Zeppelin|\t12823 |\n",
    "|Taylor Swift|\t12697 |\n",
    "|Queen|\t12450 |\n",
    "|Johnny Cash | 12011 |"
   ]
  },
  {
   "cell_type": "markdown",
   "metadata": {},
   "source": [
    "With the exception of T-Swift, we see that all the most popular artists are from before 2000. Each of these legends are definitely who you'd expect to be on a list of the all time most popular from 1920-2021. "
   ]
  },
  {
   "cell_type": "markdown",
   "metadata": {},
   "source": [
    "### Music Analysis\n",
    "\n",
    "In this section, we will look at some interesting trends in regards to some of the measures for music. We will start with tempo, or how fast the songs are in regards to the beats. Let's start with a simple question:\n",
    "\n",
    "* What decades have the highest tempo?\n",
    "\n",
    "<img src='images/tempo_decade.png'>"
   ]
  },
  {
   "cell_type": "markdown",
   "metadata": {},
   "source": [
    "There is a lot here to unwrap, so let's point out a few things:\n",
    "\n",
    "* After 2000, music became much faster than past decades\n",
    "* The Disco era was the highest tempo of all decades before the millenium\n",
    "* The 30s were a significantly slower tempo than any other decade\n",
    "* The 80s and 90s saw a decline in overall tempo from the 70s\n",
    "\n",
    "We will start with the first observation. After 2000, there was a large increase in electronic music, hip hop, and pop that subsequently have a higher tempo. In contrast, the amount of rock and roll, jazz, or instrumental music saw a decline as music became more commercialized. Thus, the huge jump in tempo!\n",
    "\n",
    "Next, the Disco era was the beginning of using electronics in music. We see that this genre alone likely lead to the significant bump in overall tempo. The 80s and 90s, however, saw disco go away, to be replaced with things like punk, grunge, and other sub genres that generally are more similar to rock and roll. This, and the rise of hip hop, are the likely explanation for the lower tempo in comparison to the 70s.\n",
    "\n",
    "Lastly, the 30s are known for the Great Depression. It appears that this had an effect on the music of the time. The 20s, in comparison, are significantly higher tempo. This begs the question:\n",
    "\n",
    "* **Do the events of the decade affect the music in other ways?**"
   ]
  },
  {
   "cell_type": "markdown",
   "metadata": {},
   "source": [
    "To answer this question, let's analyze the *valence*, or positivity, of the music for each decade. Does overall happiness effect the music of the eras?\n",
    "\n",
    "<img src='images/valence_decade.png'>"
   ]
  },
  {
   "cell_type": "markdown",
   "metadata": {},
   "source": [
    "That is quite an interesting discovery. Happiness or positivity in music tends to be higher in the 20s and 50-90s, all decades that are times of overall prosperity for the US.\n",
    "\n",
    "The 30s and 40s saw a Great Depression and a World War, and the music tended to reflect this general feeling of negativity. \n",
    "\n",
    "What is curious is that the 2000-2010s are also lower valence rating. Why could this be happening? My best guess would be that the early 2000s saw the emergence of emo, a genre dedicated to self loathing! The other part of this that is more telling, though, is that the last two decades are also when millenials and Gen Z are producing more music. Between 9/11, the constant wars in the Middle East and Afghanistan, and the Great Recession of 2009, it begs the question as to whether, on the whole, these two generations tend to be more pessimistic and negative than their predecessors.\n",
    "\n",
    "While we are on the subject, lets look at how valence compares to whether a song is considered explicit.\n",
    "\n",
    "<img src='images/valence_explicit.png'>"
   ]
  },
  {
   "cell_type": "markdown",
   "metadata": {},
   "source": [
    "When we look at songs that are marked as explicit, we see that there is almost no difference in average valence. Moreover, it seems that more songs tend to be slightly **higher** valence than the average! The only thing that comes to mind as to why this is the case is that rap and modern pop songs tend to be marked explicit more often, regardless of if they are negative or positive valence.  "
   ]
  },
  {
   "cell_type": "code",
   "execution_count": null,
   "metadata": {},
   "outputs": [],
   "source": []
  }
 ],
 "metadata": {
  "kernelspec": {
   "display_name": "Python 3",
   "language": "python",
   "name": "python3"
  },
  "language_info": {
   "codemirror_mode": {
    "name": "ipython",
    "version": 3
   },
   "file_extension": ".py",
   "mimetype": "text/x-python",
   "name": "python",
   "nbconvert_exporter": "python",
   "pygments_lexer": "ipython3",
   "version": "3.8.3"
  }
 },
 "nbformat": 4,
 "nbformat_minor": 4
}
