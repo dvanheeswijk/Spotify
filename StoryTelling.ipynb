{
 "cells": [
  {
   "cell_type": "markdown",
   "metadata": {},
   "source": [
    "# Spotify Music Story Telling\n",
    "\n",
    "Over the years, Spotify has provided countless hours of music to choose from for customers of all types. We will explore the [Spotify Dataset 1921-2021, 160k+](https://www.kaggle.com/yamaerenay/spotify-dataset-19212020-160k-tracks) consisting of over 160,000 songs from a century of music. Within the data set, we have audio info for each song (tempo, loudness, etc), popularity, artist info, as well as release date/year, among other features.\n",
    "\n",
    "We will now explore the data to find out what we can about music over the last 100 years."
   ]
  },
  {
   "cell_type": "code",
   "execution_count": null,
   "metadata": {},
   "outputs": [],
   "source": []
  }
 ],
 "metadata": {
  "kernelspec": {
   "display_name": "Python 3",
   "language": "python",
   "name": "python3"
  },
  "language_info": {
   "codemirror_mode": {
    "name": "ipython",
    "version": 3
   },
   "file_extension": ".py",
   "mimetype": "text/x-python",
   "name": "python",
   "nbconvert_exporter": "python",
   "pygments_lexer": "ipython3",
   "version": "3.8.3"
  }
 },
 "nbformat": 4,
 "nbformat_minor": 4
}
