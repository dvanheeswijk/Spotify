{
 "cells": [
  {
   "cell_type": "markdown",
   "metadata": {},
   "source": [
    "# Spotify Music Story Telling\n",
    "\n",
    "Over the years, Spotify has provided countless hours of music to choose from for customers of all types. We will explore the [Spotify Dataset 1921-2021, 160k+](https://www.kaggle.com/yamaerenay/spotify-dataset-19212020-160k-tracks) consisting of over 160,000 songs from a century of music. Within the data set, we have audio info for each song (tempo, loudness, etc), popularity, artist info, as well as release date/year, among other features.\n",
    "\n",
    "What we would like to know are the following questions:\n",
    "\n",
    "* How does popularity compare over time and among all songs within Spotify?\n",
    "* Are there any relationships between the audio measures?\n",
    "* Do explicit songs tend to be less positive?\n",
    "* Does music follow economic trends in regards to happiness?"
   ]
  },
  {
   "cell_type": "markdown",
   "metadata": {},
   "source": [
    "### Popularity analysis\n",
    "\n",
    "When we look at the overall set of songs, we see that each song has a popularity score, which ranges from 0-100. This is measured based on user listenage metrics defined by Spotify. If we take a look at popularity of songs, we start with what the distribution of songs looks like for each given popularity measure.\n",
    "\n",
    "<img src='images/popularity_dist.png'>"
   ]
  },
  {
   "cell_type": "markdown",
   "metadata": {},
   "source": [
    "We expect to have the vast majority of songs to be close to 0 in popularity, which is supported in our data. We also find the the majority of songs with a positive popularity are still under a score of 40, and an extremely small number of songs above 80 on the popularity score. If we look at the top ten most popular songs in our data set, we have\n",
    "\n",
    "| Artists | Song | Year | Pop. |\n",
    "|:----------- |:---------- |:---------- |:--------- |\n",
    "| Olivia Rodrigo | drivers license | 2021 | 100 |\n",
    "| 24kGoldn, iann dior | Mood (feat. iann dior) | 2020 | 96 |\n",
    "| Ariana Grande | positions | 2020 | 96 |\n",
    "| Bad Bunny, Jhay Cortez | DÁKITI | 2020 | 95 |\n",
    "| KAROL G | BICHOTA | 2020 | 95|\n",
    "| Ariana Grande | 34+35 | 2020 | 94 |\n",
    "| CJ | Whoopty | 2020 | 94|\n",
    "| The Kid LAROI | WITHOUT YOU | 2020 | 94 |\n",
    "| Billie Eilish | Therefore I Am | 2020 | 94 |\n",
    "| Bad Bunny, ROSALÍA | LA NOCHE DE ANOCHE | 2020 | 94 |"
   ]
  },
  {
   "cell_type": "markdown",
   "metadata": {},
   "source": [
    "It turns out that the top ten songs in regards of popularity are all from the last year. This can likely be explained simply because there are more users now than last year, and more current music tends to get more listens. Curiously, we see that the last two decades tend to be less popular overall, though.\n",
    "\n",
    "<img src='images/popularity_decade_1.png'>"
   ]
  },
  {
   "cell_type": "markdown",
   "metadata": {},
   "source": [
    "Turns out that the 90s are the most popular decade of all! This shows that millenials are likely the largest volume of listeners, without showing any data from who actually is listening to what.\n",
    "\n",
    "One thing that may explain why the newest music is so much lower in popularity, on average, can be explained in a tale of two bands:\n",
    "\n",
    "* Music Scenario 1 - produced an album in 1987 and played a few sets along the west coast before the band went their separate ways, garnering almost no long time fans. By the time Spotify comes onto the scene, the band, the label, and anyone who may have heard their music is likely not pushing to get them included in the app. Because the music came out before Spotify, then it likely will never get on the app, thus having a theoretical \"0-rating\" set of songs not making the cut.\n",
    "\n",
    "* Music Scenario 2 - young kid in 2018 decides that he wants to produce a song via soundcloud. He works on it for a week, and eventually decides to post it everywhere he can, thinking that he can become the next big thing. He puts it everywhere, including Spotify. It remains with almost no listeners for a month, then the kid decides to move on from music to something else, while the song just sits in the database with no listeners...\n",
    "\n",
    "Basically, more volume of music is getting onto Spotify now than ever, which means a lot of music that has very low popularity, bringing the overall popularity of the decade down. What if we exclude songs with \"0-rating\"? Does the millenial love of 90s music still outweigh the new stuff?\n",
    "\n",
    "<img src='images/popularity_decade_2.png'>"
   ]
  },
  {
   "cell_type": "markdown",
   "metadata": {},
   "source": [
    "Yes! Millenials just love them some Chumbawumba, Smash Mouth, Tupac, etc.\n",
    "\n",
    "Let's take a look at popularity over time for individual bands. In order to make this list, bands have to have a long history of producing bangers. Here are the top ten most popular bands of all time.\n",
    "\n",
    "| Artists | Popularity |\n",
    "|:-------- | :-------- |\n",
    "| The Beatles | 19110 |\n",
    "|Frank Sinatra|\t17434 |\n",
    "|Elvis Presley|\t16998 |\n",
    "|Fleetwood Mac|\t15927 |\n",
    "|The Rolling Stones|\t15817 |\n",
    "|Bob Dylan|\t14057 |\n",
    "|Led Zeppelin|\t12823 |\n",
    "|Taylor Swift|\t12697 |\n",
    "|Queen|\t12450 |\n",
    "|Johnny Cash | 12011 |"
   ]
  },
  {
   "cell_type": "markdown",
   "metadata": {},
   "source": [
    "With the exception of T-Swift, we see that all the most popular artists are from before 2000. Each of these legends are definitely who you'd expect to be on a list of the all time most popular from 1920-2021. "
   ]
  },
  {
   "cell_type": "code",
   "execution_count": null,
   "metadata": {},
   "outputs": [],
   "source": []
  }
 ],
 "metadata": {
  "kernelspec": {
   "display_name": "Python 3",
   "language": "python",
   "name": "python3"
  },
  "language_info": {
   "codemirror_mode": {
    "name": "ipython",
    "version": 3
   },
   "file_extension": ".py",
   "mimetype": "text/x-python",
   "name": "python",
   "nbconvert_exporter": "python",
   "pygments_lexer": "ipython3",
   "version": "3.8.3"
  }
 },
 "nbformat": 4,
 "nbformat_minor": 4
}
