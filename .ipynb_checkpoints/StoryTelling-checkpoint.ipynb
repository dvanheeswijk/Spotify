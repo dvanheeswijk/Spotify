{
 "cells": [
  {
   "cell_type": "markdown",
   "metadata": {},
   "source": [
    "# Spotify Music Story Telling\n",
    "\n",
    "Over the years, Spotify has provided countless hours of music to choose from for customers of all types. We will explore the [Spotify Dataset 1921-2021, 160k+](https://www.kaggle.com/yamaerenay/spotify-dataset-19212020-160k-tracks) consisting of over 160,000 songs from a century of music. Within the data set, we have audio info for each song (tempo, loudness, etc), popularity, artist info, as well as release date/year, among other features.\n",
    "\n",
    "What we would like to know are the following questions:\n",
    "\n",
    "* How does popularity compare over time and among all songs within Spotify?\n",
    "* Are there any relationships between the audio measures?\n",
    "* Do explicit songs tend to be less positive?\n",
    "* Does music follow economic trends in regards to happiness?"
   ]
  },
  {
   "cell_type": "markdown",
   "metadata": {},
   "source": [
    "### Popularity analysis\n",
    "\n",
    "When we look at the overall set of songs, we see that each song has a popularity score, which ranges from 0-100. This is measured based on user listenage metrics defined by Spotify. If we take a look at popularity of songs, we start with what the distribution of songs looks like for each given popularity measure.\n",
    "\n",
    "<img src='images/popularity_dist.png'>"
   ]
  },
  {
   "cell_type": "code",
   "execution_count": null,
   "metadata": {},
   "outputs": [],
   "source": []
  }
 ],
 "metadata": {
  "kernelspec": {
   "display_name": "Python 3",
   "language": "python",
   "name": "python3"
  },
  "language_info": {
   "codemirror_mode": {
    "name": "ipython",
    "version": 3
   },
   "file_extension": ".py",
   "mimetype": "text/x-python",
   "name": "python",
   "nbconvert_exporter": "python",
   "pygments_lexer": "ipython3",
   "version": "3.8.3"
  }
 },
 "nbformat": 4,
 "nbformat_minor": 4
}
